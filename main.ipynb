{
 "cells": [
  {
   "cell_type": "code",
   "execution_count": null,
   "metadata": {},
   "outputs": [],
   "source": [
    "import pandas as pd\n",
    "from sklearn.model_selection import train_test_split\n",
    "from sklearn.linear_model import LogisticRegression\n",
    "from sklearn.metrics import accuracy_score"
   ]
  },
  {
   "cell_type": "code",
   "execution_count": null,
   "metadata": {},
   "outputs": [],
   "source": [
    "df = pd.read_csv('dados_avc.csv')\n",
    "\n",
    "df = pd.get_dummies(df, columns=['gender', 'ever_married', 'work_type', 'Residence_type', 'smoking_status'], drop_first=True)\n",
    "\n",
    "X = df.drop(['stroke', 'id','age', 'bmi','avg_glucose_level'], axis=1)\n",
    "y = df['stroke']\n",
    "\n",
    "X.head(15)\n"
   ]
  },
  {
   "cell_type": "code",
   "execution_count": null,
   "metadata": {},
   "outputs": [],
   "source": [
    "from sklearn.preprocessing import StandardScaler\n",
    "\n",
    "scaler = StandardScaler()\n",
    "X_scaled = scaler.fit_transform(X.astype(float))\n",
    "\n",
    "X_train, X_test, y_train, y_test = train_test_split(X_scaled, y, test_size=0.3, random_state=42)\n",
    "\n",
    "X_train = X_train.astype(float)\n",
    "X_test = X_test.astype(float)\n",
    "y_train = y_train.astype(float)\n",
    "y_test = y_test.astype(float)\n",
    "\n",
    "print(X_train.shape)\n",
    "print(y_train.shape)\n"
   ]
  },
  {
   "cell_type": "code",
   "execution_count": null,
   "metadata": {},
   "outputs": [],
   "source": [
    "import autograd.numpy as np_  # Thinly-wrapped version of Numpy\n",
    "from autograd import grad\n",
    "import numpy as np\n",
    "\n",
    "\n",
    "def loss(parametros):\n",
    "    w, b, pontos, val = parametros\n",
    "    est = np_.dot(pontos, w) + b\n",
    "    mse = np_.mean((est - val.reshape(-1, 1).astype(float))**2)  # Assegurar que val seja float\n",
    "    return mse\n",
    "\n",
    "g = grad(loss)\n",
    "\n",
    "pontos = X_train\n",
    "alvos = y_train\n",
    "\n",
    "w = np.random.randn(X_train.shape[1], 1).astype(float)  # Assegurar que w seja float\n",
    "b = np.float64(0.0)  # Assegurar que b seja float\n",
    "\n",
    "alpha = 10 ** -3\n",
    "\n",
    "for n in range(10000):\n",
    "    grad_ = g((w, b, pontos, alvos))\n",
    "    w -= alpha * grad_[0]\n",
    "    b -= alpha * grad_[1]\n",
    "\n",
    "print(w)\n",
    "print(b)\n",
    "\n",
    "\n",
    "\n"
   ]
  },
  {
   "cell_type": "code",
   "execution_count": null,
   "metadata": {},
   "outputs": [],
   "source": [
    "# Criar um DataFrame com os coeficientes e os nomes das features\n",
    "coef_df = pd.DataFrame(w, columns=['coeficiente'], index=X.columns)\n",
    "\n",
    "# Ordenar o DataFrame pelos maiores coeficientes em valor absoluto\n",
    "coef_df['coef_abs'] = coef_df['coeficiente'].apply(np.abs)\n",
    "coef_df = coef_df.sort_values(by='coef_abs', ascending=False).drop('coef_abs', axis=1)\n",
    "\n",
    "(coef_df.head(20))\n"
   ]
  },
  {
   "cell_type": "code",
   "execution_count": null,
   "metadata": {},
   "outputs": [],
   "source": [
    "from sklearn.linear_model import LinearRegression\n",
    "\n",
    "# Converter os dados para float\n",
    "X_train = X_train.astype(float)\n",
    "y_train = y_train.astype(float)\n",
    "\n",
    "# Criar e treinar o modelo de regressão linear\n",
    "lin_reg = LinearRegression()\n",
    "lin_reg.fit(X_train, y_train)\n",
    "\n",
    "# Exibir os coeficientes e o intercept\n",
    "print(lin_reg.coef_)\n",
    "print(lin_reg.intercept_)\n",
    "\n",
    "\n"
   ]
  },
  {
   "cell_type": "code",
   "execution_count": null,
   "metadata": {},
   "outputs": [],
   "source": [
    "# Criar um DataFrame com os coeficientes e os nomes das features\n",
    "coef_df_sklearn = pd.DataFrame(lin_reg.coef_, columns=['coeficiente'], index=X.columns)\n",
    "\n",
    "# Ordenar o DataFrame pelos maiores coeficientes em valor absoluto\n",
    "coef_df_sklearn['coef_abs'] = coef_df_sklearn['coeficiente'].apply(np.abs)\n",
    "coef_df_sklearn = coef_df_sklearn.sort_values(by='coef_abs', ascending=False).drop('coef_abs', axis=1)\n",
    "\n",
    "(coef_df_sklearn).head()\n"
   ]
  },
  {
   "cell_type": "code",
   "execution_count": null,
   "metadata": {},
   "outputs": [],
   "source": [
    "def calc_accuracy(y_true, y_pred, threshold=0.5):\n",
    "    y_pred_binary = (y_pred > threshold).astype(int)\n",
    "    return accuracy_score(y_true, y_pred_binary)\n",
    "\n",
    "# Regressão linear com numpy\n",
    "y_pred_numpy = np.dot(X_test.astype(float), w) + b\n",
    "accuracy_numpy = calc_accuracy(y_test.astype(int), y_pred_numpy)\n",
    "print(f\"Acurácia do modelo de regressão linear com numpy: {accuracy_numpy * 100:.2f}%\")"
   ]
  },
  {
   "cell_type": "code",
   "execution_count": null,
   "metadata": {},
   "outputs": [],
   "source": [
    "# Regressão linear com scikit-learn\n",
    "y_pred_sklearn = lin_reg.predict(X_test.astype(float))\n",
    "accuracy_sklearn = calc_accuracy(y_test.astype(int), y_pred_sklearn)\n",
    "print(f\"Acurácia do modelo de regressão linear com scikit-learn: {accuracy_sklearn * 100:.2f}%\")"
   ]
  },
  {
   "cell_type": "code",
   "execution_count": null,
   "metadata": {},
   "outputs": [],
   "source": []
  },
  {
   "cell_type": "code",
   "execution_count": null,
   "metadata": {},
   "outputs": [],
   "source": []
  },
  {
   "cell_type": "code",
   "execution_count": null,
   "metadata": {},
   "outputs": [],
   "source": []
  },
  {
   "cell_type": "code",
   "execution_count": null,
   "metadata": {},
   "outputs": [],
   "source": []
  },
  {
   "cell_type": "code",
   "execution_count": null,
   "metadata": {},
   "outputs": [],
   "source": []
  },
  {
   "cell_type": "code",
   "execution_count": null,
   "metadata": {},
   "outputs": [],
   "source": []
  },
  {
   "cell_type": "code",
   "execution_count": null,
   "metadata": {},
   "outputs": [],
   "source": []
  },
  {
   "cell_type": "code",
   "execution_count": null,
   "metadata": {},
   "outputs": [],
   "source": []
  },
  {
   "cell_type": "code",
   "execution_count": null,
   "metadata": {},
   "outputs": [],
   "source": []
  },
  {
   "cell_type": "code",
   "execution_count": null,
   "metadata": {},
   "outputs": [],
   "source": [
    "model = LogisticRegression(max_iter=1000)  # Aumentar max_iter se necessário\n",
    "model.fit(X_train, y_train)\n"
   ]
  },
  {
   "cell_type": "code",
   "execution_count": null,
   "metadata": {},
   "outputs": [],
   "source": [
    "y_pred = model.predict(X_test)\n",
    "accuracy = accuracy_score(y_test, y_pred)\n",
    "print(f\"Acurácia do modelo: {accuracy * 100:.2f}%\")\n"
   ]
  },
  {
   "cell_type": "code",
   "execution_count": null,
   "metadata": {},
   "outputs": [],
   "source": [
    "# Pegar os coeficientes (pesos) do modelo treinado\n",
    "coeficientes = model.coef_[0]\n",
    "\n",
    "print(model.classes_)\n",
    "# Criar um DataFrame com os nomes das características e seus coeficientes correspondentes\n",
    "coeficientes_features = pd.DataFrame({\"Feature\": X.columns, \"Coeficiente\": coeficientes})\n",
    "\n",
    "# Calcular o valor absoluto dos coeficientes\n",
    "coeficientes_features['Coeficiente_abs'] = coeficientes_features['Coeficiente'].apply(abs)\n",
    "\n",
    "# Ordenar os coeficientes em ordem decrescente de valor absoluto\n",
    "coeficientes_features = coeficientes_features.sort_values(\"Coeficiente_abs\", ascending=False)\n",
    "\n",
    "# Exibir as características com os maiores coeficientes (em valor absoluto)\n",
    "coeficientes_features.head(40)\n"
   ]
  },
  {
   "cell_type": "code",
   "execution_count": null,
   "metadata": {},
   "outputs": [],
   "source": [
    "# SE DROPAR A COLUNA DE MORAR NA CIDADE OU NÃO, MUDA A ACURÁCIA DO MODELO?\n",
    "X = df.drop(['stroke', 'Residence_type_Urban'], axis=1)\n",
    "y = df['stroke']\n",
    "\n",
    "X_train, X_test, y_train, y_test = train_test_split(X, y, test_size=0.3, random_state=42)\n",
    "model = LogisticRegression(max_iter=1000)  # Aumentar max_iter se necessário\n",
    "model.fit(X_train, y_train)\n"
   ]
  },
  {
   "cell_type": "code",
   "execution_count": null,
   "metadata": {},
   "outputs": [],
   "source": [
    "y_pred = model.predict(X_test)\n",
    "accuracy = accuracy_score(y_test, y_pred)\n",
    "print(f\"Acurácia do modelo: {accuracy * 100:.2f}%\")"
   ]
  },
  {
   "cell_type": "code",
   "execution_count": null,
   "metadata": {},
   "outputs": [],
   "source": [
    "from sklearn.tree import DecisionTreeClassifier\n",
    "\n",
    "# Treinar a árvore de decisão\n",
    "tree = DecisionTreeClassifier(random_state=42)\n",
    "tree.fit(X_train, y_train)\n",
    "\n",
    "# Calcular a importância das características\n",
    "importances = tree.feature_importances_\n",
    "\n",
    "# Emparelhar os nomes das características com suas importâncias\n",
    "feature_importances = list(zip(X_train.columns, importances))\n",
    "\n",
    "# Ordenar as características pela importância\n",
    "sorted_feature_importances = sorted(feature_importances, key=lambda x: x[1], reverse=True)\n",
    "\n",
    "print(\"Importância das características:\")\n",
    "feature_importance_df = pd.DataFrame(sorted_feature_importances, columns=['Feature', 'Importance'])\n",
    "\n",
    "\n",
    "\n",
    "feature_importance_df.head(15)\n"
   ]
  }
 ],
 "metadata": {
  "kernelspec": {
   "display_name": "env",
   "language": "python",
   "name": "python3"
  },
  "language_info": {
   "codemirror_mode": {
    "name": "ipython",
    "version": 3
   },
   "file_extension": ".py",
   "mimetype": "text/x-python",
   "name": "python",
   "nbconvert_exporter": "python",
   "pygments_lexer": "ipython3",
   "version": "3.11.3"
  },
  "orig_nbformat": 4
 },
 "nbformat": 4,
 "nbformat_minor": 2
}
