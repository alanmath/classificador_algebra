{
 "cells": [
  {
   "attachments": {},
   "cell_type": "markdown",
   "metadata": {},
   "source": [
    "O Acidente Vascular Cerebral (AVC), também conhecido como derrame cerebral, é uma das principais causas de morte e incapacidade em todo o mundo. Ele ocorre quando o fluxo sanguíneo para uma parte do cérebro é interrompido, privando as células cerebrais de oxigênio e nutrientes vitais.  \n",
    "Isso pode levar à morte das células cerebrais em poucos minutos, resultando em danos permanentes ao cérebro e a possibilidade de paralisia, dificuldade na fala e outras complicações graves.  \n",
    "Esse problema tem grande prevalência no Brasil, e tem aumentado, em especial entre os mais jovens, segundo reportagem do R7 saúde.  \n",
    "O objetivo desse trabalho é criar um modelo classificador para tentar, a partir de algumas features, classificar se uma certa pessoa teve ou não AVC. Caso ele apresente boa acúracia, pode-se compreender alguns fatores que são mais determinantes para causar um AVC. Os modelos utilizados foram árvore de decisão e gradiente descendente.\n",
    "\n",
    "Fontes:\n",
    "https://noticias.r7.com/saude/proporcao-de-jovens-que-morrem-de-avc-no-brasil-aumenta-em-2021-29102021"
   ]
  },
  {
   "cell_type": "code",
   "execution_count": 1,
   "metadata": {},
   "outputs": [],
   "source": [
    "import pandas as pd\n",
    "from sklearn.model_selection import train_test_split\n",
    "from sklearn.linear_model import LinearRegression\n",
    "from sklearn.metrics import accuracy_score\n",
    "import autograd.numpy as np_   # Thinly-wrapped version of Numpy\n",
    "from autograd import grad\n",
    "import numpy as np"
   ]
  },
  {
   "attachments": {},
   "cell_type": "markdown",
   "metadata": {},
   "source": [
    "O primeiro passo realizado para lidar com os dados foi baixar e ler a base de dados do kaggle (disponível em: https://www.kaggle.com/datasets/fedesoriano/stroke-prediction-dataset), seguido da categorização de dados numéricos e transformação em one-hot-encoding. \n"
   ]
  },
  {
   "cell_type": "code",
   "execution_count": 2,
   "metadata": {},
   "outputs": [
    {
     "data": {
      "text/html": [
       "<div>\n",
       "<style scoped>\n",
       "    .dataframe tbody tr th:only-of-type {\n",
       "        vertical-align: middle;\n",
       "    }\n",
       "\n",
       "    .dataframe tbody tr th {\n",
       "        vertical-align: top;\n",
       "    }\n",
       "\n",
       "    .dataframe thead th {\n",
       "        text-align: right;\n",
       "    }\n",
       "</style>\n",
       "<table border=\"1\" class=\"dataframe\">\n",
       "  <thead>\n",
       "    <tr style=\"text-align: right;\">\n",
       "      <th></th>\n",
       "      <th>id</th>\n",
       "      <th>gender</th>\n",
       "      <th>age</th>\n",
       "      <th>hypertension</th>\n",
       "      <th>heart_disease</th>\n",
       "      <th>ever_married</th>\n",
       "      <th>work_type</th>\n",
       "      <th>Residence_type</th>\n",
       "      <th>avg_glucose_level</th>\n",
       "      <th>bmi</th>\n",
       "      <th>smoking_status</th>\n",
       "      <th>stroke</th>\n",
       "    </tr>\n",
       "  </thead>\n",
       "  <tbody>\n",
       "    <tr>\n",
       "      <th>0</th>\n",
       "      <td>9046</td>\n",
       "      <td>Male</td>\n",
       "      <td>67.0</td>\n",
       "      <td>0</td>\n",
       "      <td>1</td>\n",
       "      <td>Yes</td>\n",
       "      <td>Private</td>\n",
       "      <td>Urban</td>\n",
       "      <td>228.69</td>\n",
       "      <td>36.6</td>\n",
       "      <td>formerly smoked</td>\n",
       "      <td>1</td>\n",
       "    </tr>\n",
       "    <tr>\n",
       "      <th>1</th>\n",
       "      <td>51676</td>\n",
       "      <td>Female</td>\n",
       "      <td>61.0</td>\n",
       "      <td>0</td>\n",
       "      <td>0</td>\n",
       "      <td>Yes</td>\n",
       "      <td>Self-employed</td>\n",
       "      <td>Rural</td>\n",
       "      <td>202.21</td>\n",
       "      <td>NaN</td>\n",
       "      <td>never smoked</td>\n",
       "      <td>1</td>\n",
       "    </tr>\n",
       "  </tbody>\n",
       "</table>\n",
       "</div>"
      ],
      "text/plain": [
       "      id  gender   age  hypertension  heart_disease ever_married   \n",
       "0   9046    Male  67.0             0              1          Yes  \\\n",
       "1  51676  Female  61.0             0              0          Yes   \n",
       "\n",
       "       work_type Residence_type  avg_glucose_level   bmi   smoking_status   \n",
       "0        Private          Urban             228.69  36.6  formerly smoked  \\\n",
       "1  Self-employed          Rural             202.21   NaN     never smoked   \n",
       "\n",
       "   stroke  \n",
       "0       1  \n",
       "1       1  "
      ]
     },
     "execution_count": 2,
     "metadata": {},
     "output_type": "execute_result"
    }
   ],
   "source": [
    "df = pd.read_csv('dados_avc.csv')\n",
    "df.head(2)\n"
   ]
  },
  {
   "attachments": {},
   "cell_type": "markdown",
   "metadata": {},
   "source": [
    "Como pode-se perceber, as features (dados de entrada do modelo) não estão padronizadas. Exsitem elementos numéricos nas colunas \"age\", \"avg_glucose_level\" e \"bmi\", que serão categorizadas. Os critérios para as categorias foram baseados em agumas pesquisas na internet. As fontes estão disponíveis nos comentários do código.   \n",
    "   \n",
    "Em seguida, foi aplicada a função \"get_dummies\" para realizar a conversão dos dados categóricos para o formato \"one hot enconding\". Esse formato cria uma coluna para cada categoria, de modo que somente uma delas tenha o sinal de verdadeiro (representado por 1). Um exemplo, seria a transformação da coluna “gender” que é transformada em “gender_Male”, “gender_Female” e “gender_Others”, então para o caso de um “gender” Male a primeira coluna terá valor 1 e as demais 0. "
   ]
  },
  {
   "cell_type": "code",
   "execution_count": 3,
   "metadata": {},
   "outputs": [
    {
     "data": {
      "text/html": [
       "<div>\n",
       "<style scoped>\n",
       "    .dataframe tbody tr th:only-of-type {\n",
       "        vertical-align: middle;\n",
       "    }\n",
       "\n",
       "    .dataframe tbody tr th {\n",
       "        vertical-align: top;\n",
       "    }\n",
       "\n",
       "    .dataframe thead th {\n",
       "        text-align: right;\n",
       "    }\n",
       "</style>\n",
       "<table border=\"1\" class=\"dataframe\">\n",
       "  <thead>\n",
       "    <tr style=\"text-align: right;\">\n",
       "      <th></th>\n",
       "      <th>id</th>\n",
       "      <th>hypertension</th>\n",
       "      <th>heart_disease</th>\n",
       "      <th>stroke</th>\n",
       "      <th>gender_Male</th>\n",
       "      <th>gender_Other</th>\n",
       "      <th>ever_married_Yes</th>\n",
       "      <th>work_type_Never_worked</th>\n",
       "      <th>work_type_Private</th>\n",
       "      <th>work_type_Self-employed</th>\n",
       "      <th>...</th>\n",
       "      <th>smoking_status_smokes</th>\n",
       "      <th>avg_glucose_level_Normal</th>\n",
       "      <th>avg_glucose_level_Alto</th>\n",
       "      <th>avg_glucose_level_Muito alto</th>\n",
       "      <th>bmi_Peso normal</th>\n",
       "      <th>bmi_Sobrepeso</th>\n",
       "      <th>bmi_Obesidade</th>\n",
       "      <th>age_Jovem</th>\n",
       "      <th>age_Adulto</th>\n",
       "      <th>age_Idoso</th>\n",
       "    </tr>\n",
       "  </thead>\n",
       "  <tbody>\n",
       "    <tr>\n",
       "      <th>0</th>\n",
       "      <td>9046</td>\n",
       "      <td>0</td>\n",
       "      <td>1</td>\n",
       "      <td>1</td>\n",
       "      <td>True</td>\n",
       "      <td>False</td>\n",
       "      <td>True</td>\n",
       "      <td>False</td>\n",
       "      <td>True</td>\n",
       "      <td>False</td>\n",
       "      <td>...</td>\n",
       "      <td>False</td>\n",
       "      <td>False</td>\n",
       "      <td>False</td>\n",
       "      <td>True</td>\n",
       "      <td>False</td>\n",
       "      <td>False</td>\n",
       "      <td>True</td>\n",
       "      <td>False</td>\n",
       "      <td>False</td>\n",
       "      <td>True</td>\n",
       "    </tr>\n",
       "    <tr>\n",
       "      <th>1</th>\n",
       "      <td>51676</td>\n",
       "      <td>0</td>\n",
       "      <td>0</td>\n",
       "      <td>1</td>\n",
       "      <td>False</td>\n",
       "      <td>False</td>\n",
       "      <td>True</td>\n",
       "      <td>False</td>\n",
       "      <td>False</td>\n",
       "      <td>True</td>\n",
       "      <td>...</td>\n",
       "      <td>False</td>\n",
       "      <td>False</td>\n",
       "      <td>False</td>\n",
       "      <td>True</td>\n",
       "      <td>False</td>\n",
       "      <td>True</td>\n",
       "      <td>False</td>\n",
       "      <td>False</td>\n",
       "      <td>False</td>\n",
       "      <td>True</td>\n",
       "    </tr>\n",
       "  </tbody>\n",
       "</table>\n",
       "<p>2 rows × 24 columns</p>\n",
       "</div>"
      ],
      "text/plain": [
       "      id  hypertension  heart_disease  stroke  gender_Male  gender_Other   \n",
       "0   9046             0              1       1         True         False  \\\n",
       "1  51676             0              0       1        False         False   \n",
       "\n",
       "   ever_married_Yes  work_type_Never_worked  work_type_Private   \n",
       "0              True                   False               True  \\\n",
       "1              True                   False              False   \n",
       "\n",
       "   work_type_Self-employed  ...  smoking_status_smokes   \n",
       "0                    False  ...                  False  \\\n",
       "1                     True  ...                  False   \n",
       "\n",
       "   avg_glucose_level_Normal  avg_glucose_level_Alto   \n",
       "0                     False                   False  \\\n",
       "1                     False                   False   \n",
       "\n",
       "   avg_glucose_level_Muito alto  bmi_Peso normal  bmi_Sobrepeso   \n",
       "0                          True            False          False  \\\n",
       "1                          True            False           True   \n",
       "\n",
       "   bmi_Obesidade  age_Jovem  age_Adulto  age_Idoso  \n",
       "0           True      False       False       True  \n",
       "1          False      False       False       True  \n",
       "\n",
       "[2 rows x 24 columns]"
      ]
     },
     "execution_count": 3,
     "metadata": {},
     "output_type": "execute_result"
    }
   ],
   "source": [
    "# Preencher valores ausentes em 'bmi' com a média\n",
    "df['bmi'].replace('N/A', float('nan'), inplace=True)\n",
    "df['bmi'].fillna(df['bmi'].mean(), inplace=True)\n",
    "# Criar faixas etárias\n",
    "age_bins = [0, 18, 35, 60, 100]\n",
    "age_labels = ['Criança/Adolescente', 'Jovem', 'Adulto', 'Idoso']\n",
    "df['age'] = pd.cut(df['age'], bins=age_bins, labels=age_labels)\n",
    "\n",
    "# Criar categorias de IMC\n",
    "bmi_bins = [0, 18.5, 24.9, 29.9, 100]\n",
    "bmi_labels = ['Abaixo do peso', 'Peso normal', 'Sobrepeso', 'Obesidade']\n",
    "df['bmi'] = pd.cut(df['bmi'], bins=bmi_bins, labels=bmi_labels)\n",
    "\n",
    "# Criar níveis de glicose no sangue\n",
    "glucose_bins = [0, 70, 130, 200, 900]\n",
    "glucose_labels = ['Baixo', 'Normal', \"Alto\", 'Muito alto']\n",
    "df['avg_glucose_level'] = pd.cut(df['avg_glucose_level'], bins=glucose_bins, labels=glucose_labels)\n",
    "\n",
    "# Converter colunas categóricas usando one-hot encoding\n",
    "df = pd.get_dummies(df, columns=['gender', 'ever_married', 'work_type', 'Residence_type', 'smoking_status','avg_glucose_level', 'bmi', 'age'], drop_first=True)\n",
    "df.head(2)"
   ]
  },
  {
   "attachments": {},
   "cell_type": "markdown",
   "metadata": {},
   "source": [
    "Com o dataframe pronto, foi realizada a separação para o dataframe X (features) e Y (resultado). No caso em questão, as features eram idade, bmi, hipertensão, tipo de trabalho, entre outros, ao passo que o resultado é ter tido, ou não, AVC. "
   ]
  },
  {
   "cell_type": "code",
   "execution_count": 4,
   "metadata": {},
   "outputs": [
    {
     "data": {
      "text/html": [
       "<div>\n",
       "<style scoped>\n",
       "    .dataframe tbody tr th:only-of-type {\n",
       "        vertical-align: middle;\n",
       "    }\n",
       "\n",
       "    .dataframe tbody tr th {\n",
       "        vertical-align: top;\n",
       "    }\n",
       "\n",
       "    .dataframe thead th {\n",
       "        text-align: right;\n",
       "    }\n",
       "</style>\n",
       "<table border=\"1\" class=\"dataframe\">\n",
       "  <thead>\n",
       "    <tr style=\"text-align: right;\">\n",
       "      <th></th>\n",
       "      <th>hypertension</th>\n",
       "      <th>heart_disease</th>\n",
       "      <th>gender_Male</th>\n",
       "      <th>gender_Other</th>\n",
       "      <th>ever_married_Yes</th>\n",
       "      <th>work_type_Never_worked</th>\n",
       "      <th>work_type_Private</th>\n",
       "      <th>work_type_Self-employed</th>\n",
       "      <th>work_type_children</th>\n",
       "      <th>Residence_type_Urban</th>\n",
       "      <th>...</th>\n",
       "      <th>smoking_status_smokes</th>\n",
       "      <th>avg_glucose_level_Normal</th>\n",
       "      <th>avg_glucose_level_Alto</th>\n",
       "      <th>avg_glucose_level_Muito alto</th>\n",
       "      <th>bmi_Peso normal</th>\n",
       "      <th>bmi_Sobrepeso</th>\n",
       "      <th>bmi_Obesidade</th>\n",
       "      <th>age_Jovem</th>\n",
       "      <th>age_Adulto</th>\n",
       "      <th>age_Idoso</th>\n",
       "    </tr>\n",
       "  </thead>\n",
       "  <tbody>\n",
       "    <tr>\n",
       "      <th>0</th>\n",
       "      <td>0</td>\n",
       "      <td>1</td>\n",
       "      <td>True</td>\n",
       "      <td>False</td>\n",
       "      <td>True</td>\n",
       "      <td>False</td>\n",
       "      <td>True</td>\n",
       "      <td>False</td>\n",
       "      <td>False</td>\n",
       "      <td>True</td>\n",
       "      <td>...</td>\n",
       "      <td>False</td>\n",
       "      <td>False</td>\n",
       "      <td>False</td>\n",
       "      <td>True</td>\n",
       "      <td>False</td>\n",
       "      <td>False</td>\n",
       "      <td>True</td>\n",
       "      <td>False</td>\n",
       "      <td>False</td>\n",
       "      <td>True</td>\n",
       "    </tr>\n",
       "  </tbody>\n",
       "</table>\n",
       "<p>1 rows × 22 columns</p>\n",
       "</div>"
      ],
      "text/plain": [
       "   hypertension  heart_disease  gender_Male  gender_Other  ever_married_Yes   \n",
       "0             0              1         True         False              True  \\\n",
       "\n",
       "   work_type_Never_worked  work_type_Private  work_type_Self-employed   \n",
       "0                   False               True                    False  \\\n",
       "\n",
       "   work_type_children  Residence_type_Urban  ...  smoking_status_smokes   \n",
       "0               False                  True  ...                  False  \\\n",
       "\n",
       "   avg_glucose_level_Normal  avg_glucose_level_Alto   \n",
       "0                     False                   False  \\\n",
       "\n",
       "   avg_glucose_level_Muito alto  bmi_Peso normal  bmi_Sobrepeso   \n",
       "0                          True            False          False  \\\n",
       "\n",
       "   bmi_Obesidade  age_Jovem  age_Adulto  age_Idoso  \n",
       "0           True      False       False       True  \n",
       "\n",
       "[1 rows x 22 columns]"
      ]
     },
     "execution_count": 4,
     "metadata": {},
     "output_type": "execute_result"
    }
   ],
   "source": [
    "X = df.drop(['stroke', 'id'], axis=1)\n",
    "Y = df['stroke']\n",
    "X.head(1)"
   ]
  },
  {
   "attachments": {},
   "cell_type": "markdown",
   "metadata": {},
   "source": [
    "Antes de realizar as manipulações de fato, são realizadas algumas operações apenas para homogeneizar os dados (todos os false viraram -1, bem como os 0), para permitir a análise. Além disso, foi escolhido -1 ou 1 para que todos os fatores estivessem na mesma escala, permitindo uma comparação mais simples e clara. "
   ]
  },
  {
   "cell_type": "code",
   "execution_count": 5,
   "metadata": {},
   "outputs": [],
   "source": [
    "## converting the 0 to -1\n",
    "X = X.replace(0, -1)\n",
    "\n",
    "## convering the True to 1 and False to -1\n",
    "Y = Y.replace(0, -1)\n",
    "X = X.replace(True, 1)\n",
    "X = X.replace(False, -1)\n",
    "\n",
    "X = X.astype('float64')\n",
    "Y = Y.astype('float64')"
   ]
  },
  {
   "attachments": {},
   "cell_type": "markdown",
   "metadata": {},
   "source": [
    "Em seguida, foi a separação de dataset de treino e teste. Inicialmente, foi realizada uma divisão convencional, com 30% dos dados para treino e o restante para teste. Contudo, após realizar as análises do modelo e da hipótese nula, percebeu-se que a quantidade de casos de AVC era pouco significativa no dataset, acarretando nos modelos enviesados e escolhendo -1 (sem AVC) como saída. Com isso em mente, foi realizado um novo treinamento coletando todos os 249 casos com AVC e 251 dos restantes para montar o novo dataset. Esse dataset com 500 pessoas foi dividido 50% para treino e o restante para teste."
   ]
  },
  {
   "cell_type": "code",
   "execution_count": 6,
   "metadata": {},
   "outputs": [],
   "source": [
    "X = X[:500]\n",
    "Y = Y[:500]\n",
    "X_train, X_test, Y_train, Y_test = train_test_split(X, Y, test_size=0.5, random_state=42)\n"
   ]
  },
  {
   "attachments": {},
   "cell_type": "markdown",
   "metadata": {},
   "source": [
    "Após a separação do dataset, foi desenvolvido o código da função de perda. A ideia utilizada nessa implementação é que, existe uma “linha” que consegue dividir os dados em dois grupos: “teve AVC” e “não teve AVC”. Para determinar essa linha, inicia-se com um chute inicial e esse valor vai sendo melhorado conforme é realizado o “gradiente descendente” da função de perda. Basicamente busca-se a direção que maximiza o erro e percorre-se a direção contrária. Após várias iterações, a “linha” passa a ficar próxima o suficiente da ideal, com os menores erros possíveis (ou pelo menos próxima o suficiente do menor valor do mínimo local). Matematicamente temos:\n",
    "$$ y = w_t x + b $$ \n",
    "Em que y é a classificação calculada pelo modelo, $w_t$ é o vetor de pesos das features, x é o vetor com features de cada pessoa e b é o “bias” (viés). \n"
   ]
  },
  {
   "cell_type": "code",
   "execution_count": 7,
   "metadata": {},
   "outputs": [],
   "source": [
    "def loss( parametros ):\n",
    "    w, b, x, y = parametros\n",
    "    est = w.T @ x + b\n",
    "    mse = np_.mean( (est - y)**2)\n",
    "    return mse\n",
    "\n",
    "g = grad(loss)\n",
    "x = np.array(X_train).T\n",
    "y = np.array(Y_train)\n"
   ]
  },
  {
   "attachments": {},
   "cell_type": "markdown",
   "metadata": {},
   "source": [
    "Como pode-se perceber, x e y são os dados que separamos inicialmente, desse modo, eles não serão alterados pois representam os “pontos” que desejamos separar. Os valores que serão atualizados de forma iterativa são o vetor de pesos ($w_t$) e o bias ($b$). O procedimento consiste em escolher valores que podem ser aleatórios para o bias e os pesos (quanto mais próximo do valor real, mais rápido ele chegará no objetivo).   \n",
    "\n",
    "Em seguida é realizado o cálculo do gradiente da função de perda e os valores da derivada em relação ao vetor de pesos e a b são subtraídos de cada um, respectivamente. Desse modo, estamos aumentando eles na direção da diminuição do erro.    \n",
    "\n",
    "Entretanto, para evitar que ele “passe direto” pelo valor de erro mínimo, utiliza-se um fator para diminuir cada “passo” dado na direção do erro mínimo, aqui representado como $alpha$. Em geral são utilizadas potências de 10 negativas de 1 a 5. Nesse caso foram realizados alguns testes e $1/10^2$ apresentou um resultado satisfatório. "
   ]
  },
  {
   "cell_type": "code",
   "execution_count": 8,
   "metadata": {},
   "outputs": [],
   "source": [
    "w = np.random.randn(x.shape[0], 1)\n",
    "b = 0.0\n",
    "alpha = 10**-2\n",
    "\n",
    "for n in range(20000):\n",
    "    grad_ = g( (w, b, x, y) )\n",
    "    w -= alpha*grad_[0]\n",
    "    b -= alpha*grad_[1]\n"
   ]
  },
  {
   "attachments": {},
   "cell_type": "markdown",
   "metadata": {},
   "source": [
    "Nessa célula é utilizado o método de Linear Regression da biblioteca sklearn, para realizar comparações entre o método utilizado na nossa análise e um método validado e amplamente utilizado e perceber as diferenças entre o modelo desenvolvido e um utilizado em nível de produção. "
   ]
  },
  {
   "cell_type": "code",
   "execution_count": 9,
   "metadata": {},
   "outputs": [],
   "source": [
    "model = LinearRegression()\n",
    "model.fit(X_train, Y_train)\n",
    "Y_pred = model.predict(X_test)\n",
    "Y_pred[Y_pred > 0] = 1\n",
    "Y_pred[Y_pred <= 0] = -1"
   ]
  },
  {
   "attachments": {},
   "cell_type": "markdown",
   "metadata": {},
   "source": [
    "Nessa célula é definida a função de acurácia do modelo, que consiste em verificar se ambos (y_teste[i] e y_predito[i]) apresentam o mesmo sinal e fazer a média (1 para casos positivos e 0 caso contrário).  Em seguida é realizada uma manipulação para facilitar a visualização dos dados, posteriormente. "
   ]
  },
  {
   "cell_type": "code",
   "execution_count": 10,
   "metadata": {},
   "outputs": [],
   "source": [
    "def accuracy(y_test, y_est):\n",
    "    return np.mean(np.sign(y_test)==np.sign(y_est))\n",
    "\n",
    "## create tuples with value of w and X column name\n",
    "w_tuples = []\n",
    "w_lin_model = []\n",
    "for i in range(len(w)):\n",
    "    w_tuples.append((w[i][0], X.columns[i]))\n",
    "    w_lin_model.append((model.coef_[i], X.columns[i]))\n",
    "\n",
    "## sort the tuples\n",
    "w_tuples.sort(reverse=True)\n",
    "w_lin_model.sort(reverse=True)\n"
   ]
  },
  {
   "attachments": {},
   "cell_type": "markdown",
   "metadata": {},
   "source": [
    "Apresentação dos dados tanto do modelo desenvolvido, bem como do LinearRegression do Sklearn"
   ]
  },
  {
   "cell_type": "code",
   "execution_count": 11,
   "metadata": {},
   "outputs": [
    {
     "name": "stdout",
     "output_type": "stream",
     "text": [
      "[(0.5602477862242016, 'age_Idoso'), (0.3075765772216035, 'age_Adulto'), (0.184082260510167, 'smoking_status_formerly smoked'), (0.17751467494468187, 'hypertension'), (0.10809089012239163, 'avg_glucose_level_Normal'), (0.10773711237525076, 'smoking_status_smokes'), (0.07958113153944812, 'bmi_Sobrepeso'), (0.07513501922238633, 'heart_disease'), (0.07050843118956758, 'gender_Male'), (0.06134007603113144, 'work_type_children'), (0.060907194532155644, 'work_type_Private'), (0.05856304747944653, 'avg_glucose_level_Alto'), (0.04234718361774292, 'smoking_status_never smoked'), (0.036795480166553, 'Residence_type_Urban'), (0.028758620146754652, 'avg_glucose_level_Muito alto'), (-0.010769305175918047, 'work_type_Self-employed'), (-0.011283554015742403, 'ever_married_Yes'), (-0.05452557202534441, 'bmi_Peso normal'), (-0.09837299266545835, 'bmi_Obesidade'), (-0.10264327214799794, 'work_type_Never_worked'), (-0.11130934857190553, 'age_Jovem'), (-0.16467750298008754, 'gender_Other')]\n",
      "Acurácia do modelo desenvolvido: 71.60%\n",
      "[(0.5621536532893805, 'age_Idoso'), (0.3095209543775184, 'age_Adulto'), (0.18408173959288424, 'smoking_status_formerly smoked'), (0.17749456532947644, 'hypertension'), (0.10815197152034876, 'avg_glucose_level_Normal'), (0.10770684931289574, 'smoking_status_smokes'), (0.07952931429653437, 'bmi_Sobrepeso'), (0.0751146848426591, 'heart_disease'), (0.07049241718841505, 'gender_Male'), (0.0631996487175005, 'work_type_children'), (0.060965494176381765, 'work_type_Private'), (0.05864668212844117, 'avg_glucose_level_Alto'), (0.042305805951199274, 'smoking_status_never smoked'), (0.03685870499085863, 'Residence_type_Urban'), (0.028834264370242613, 'avg_glucose_level_Muito alto'), (-1.1102230246251565e-16, 'gender_Other'), (-1.942890293094024e-16, 'work_type_Never_worked'), (-0.010657085018834165, 'work_type_Self-employed'), (-0.01147807911759893, 'ever_married_Yes'), (-0.05453591787323173, 'bmi_Peso normal'), (-0.09838178459752886, 'bmi_Obesidade'), (-0.10941573082288766, 'age_Jovem')]\n",
      "Acurácia do modelo do sklearn: 71.60%\n"
     ]
    }
   ],
   "source": [
    "print(w_tuples)\n",
    "\n",
    "x = np.array(X_test).T\n",
    "y = np.array(Y_test)\n",
    "\n",
    "y_est = w.T @ x + b\n",
    "print(f\"Acurácia do modelo desenvolvido: {accuracy(y, y_est) * 100:.2f}%\")\n",
    "\n",
    "print(w_lin_model)\n",
    "\n",
    "accu = accuracy_score(Y_test, Y_pred)\n",
    "print(f\"Acurácia do modelo do sklearn: {accu * 100:.2f}%\")"
   ]
  },
  {
   "attachments": {},
   "cell_type": "markdown",
   "metadata": {},
   "source": [
    "Essa célula apresenta a declaração da hipótese nula, que consiste na ideia de \"chutar\" sempre o caso que mais ocorre no dataset. Com isso, um dataset com grande volume de dados de uma categoria, digamos 70%, teria uma acurácia de 70%. Por isso, é importante comparar a acurácia do modelo e a avaliação da hipótese nula, já que um modelo que performa menos que 70% no caso apresentado é pouco confiável. "
   ]
  },
  {
   "cell_type": "code",
   "execution_count": 12,
   "metadata": {},
   "outputs": [],
   "source": [
    "def avaliar_hipotese_nula(y_test):\n",
    "    return max(np.count_nonzero(y_test == 1), np.count_nonzero(y_test == -1)) / len(y_test)"
   ]
  },
  {
   "attachments": {},
   "cell_type": "markdown",
   "metadata": {},
   "source": [
    "Como era de se esperar, a hipótese nula é por volta de 50%, haja vista que na separação dos datasets de treino e teste, foram escolhidos somente 500 linhas de dados, para evitar viés de uma categoria. No original a hipótese nula era cerca de 94,19% e os modelos “chutavam” sempre que a pessoa não tinha apresentado um quadro AVC, para os casos de teste. "
   ]
  },
  {
   "cell_type": "code",
   "execution_count": 13,
   "metadata": {},
   "outputs": [
    {
     "name": "stdout",
     "output_type": "stream",
     "text": [
      "Acurácia da hipótese nula: 50.20%\n"
     ]
    }
   ],
   "source": [
    "hn = avaliar_hipotese_nula(y_test= Y.to_numpy())\n",
    "print(f\"Acurácia da hipótese nula: {hn * 100:.2f}%\")"
   ]
  },
  {
   "attachments": {},
   "cell_type": "markdown",
   "metadata": {},
   "source": [
    "\n",
    "Sobre o modelo de árvore de decisão, ele consiste em realizar uma série de “perguntas” para os dados, de modo que seja possível realizar uma série de divisões. O critério para cada divisão, aplicado no modelo, foi o da entropia. \n",
    "\n",
    "Quanto maior a entropia que aquela divisão gera, maior sua relevância e cada lado é dividido de forma mais “igualitária”. Desse modo, é possível ir separando os dados em categorias cada vez mais segmentadas, a ponto de termos grupos de dados em que só haja pessoas de um tipo de categoria, ou que apresentem uma maioria.\n",
    "\n",
    "Com isso, no momento de avaliar um certo dado, o algoritmo realiza as verificações sucessivas, até encontrar um nó final e realiza a classificação conforme o que predomina nesse nó. Esse modelo pode ser entendido como uma série de “ifs” encadeados, porém de forma mais eficaz. \n",
    "\n",
    "Por exemplo, para uma linha com uma pessoa de categoria Idoso, sem problemas de coração , que já fumou, com bmi de “Peso normal”, com a árvore abaixo, teriamos o caminho: É idoso? Sim. Segue pelo ramo da direita. Tem obesidade? Não. Segue pelo ramo da esquerda. Já fumou? Sim. Segue pelo ramo da direita. E assim sucessivamente. "
   ]
  },
  {
   "cell_type": "code",
   "execution_count": 14,
   "metadata": {},
   "outputs": [
    {
     "ename": "ModuleNotFoundError",
     "evalue": "No module named 'matplotlib'",
     "output_type": "error",
     "traceback": [
      "\u001b[1;31m---------------------------------------------------------------------------\u001b[0m",
      "\u001b[1;31mModuleNotFoundError\u001b[0m                       Traceback (most recent call last)",
      "Cell \u001b[1;32mIn[14], line 10\u001b[0m\n\u001b[0;32m      8\u001b[0m \u001b[39m# Podemos visualizar a árvore de decisão em uma figura!\u001b[39;00m\n\u001b[0;32m      9\u001b[0m \u001b[39mfrom\u001b[39;00m \u001b[39msklearn\u001b[39;00m\u001b[39m.\u001b[39;00m\u001b[39mtree\u001b[39;00m \u001b[39mimport\u001b[39;00m plot_tree\n\u001b[1;32m---> 10\u001b[0m \u001b[39mimport\u001b[39;00m \u001b[39mmatplotlib\u001b[39;00m\u001b[39m.\u001b[39;00m\u001b[39mpyplot\u001b[39;00m \u001b[39mas\u001b[39;00m \u001b[39mplt\u001b[39;00m\n\u001b[0;32m     12\u001b[0m plt\u001b[39m.\u001b[39mfigure( figsize\u001b[39m=\u001b[39m(\u001b[39m20\u001b[39m,\u001b[39m20\u001b[39m) )\n\u001b[0;32m     13\u001b[0m a \u001b[39m=\u001b[39m plot_tree(tree, feature_names\u001b[39m=\u001b[39mX\u001b[39m.\u001b[39mcolumns, fontsize\u001b[39m=\u001b[39m\u001b[39m15\u001b[39m, \n\u001b[0;32m     14\u001b[0m               node_ids\u001b[39m=\u001b[39m\u001b[39mFalse\u001b[39;00m, impurity\u001b[39m=\u001b[39m\u001b[39mFalse\u001b[39;00m, filled\u001b[39m=\u001b[39m\u001b[39mTrue\u001b[39;00m)\n",
      "\u001b[1;31mModuleNotFoundError\u001b[0m: No module named 'matplotlib'"
     ]
    }
   ],
   "source": [
    "from sklearn.tree import DecisionTreeClassifier\n",
    "\n",
    "tree = DecisionTreeClassifier(criterion='entropy')\n",
    "\n",
    "# Agora, vamos usar o método .fit() para ajustar os parâmetros da árvore:\n",
    "tree.fit(X_train, Y_train)\n",
    "\n",
    "# Podemos visualizar a árvore de decisão em uma figura!\n",
    "from sklearn.tree import plot_tree\n",
    "import matplotlib.pyplot as plt\n",
    "\n",
    "plt.figure( figsize=(20,20) )\n",
    "a = plot_tree(tree, feature_names=X.columns, fontsize=15, \n",
    "              node_ids=False, impurity=False, filled=True)"
   ]
  },
  {
   "attachments": {},
   "cell_type": "markdown",
   "metadata": {},
   "source": [
    "Nessa célula é apresentada a acurácia do modelo da árvore de decisão."
   ]
  },
  {
   "cell_type": "code",
   "execution_count": null,
   "metadata": {},
   "outputs": [
    {
     "name": "stdout",
     "output_type": "stream",
     "text": [
      "Acurácia do modelo de árvore de decisão: 0.62\n"
     ]
    }
   ],
   "source": [
    "from sklearn.metrics import accuracy_score\n",
    "\n",
    "y_pred = tree.predict(X_test)\n",
    "accuracy = accuracy_score(Y_test, y_pred)\n",
    "print(\"Acurácia do modelo de árvore de decisão:\", accuracy)"
   ]
  },
  {
   "attachments": {},
   "cell_type": "markdown",
   "metadata": {},
   "source": [
    "Por fim, foi utlizado método feature_importances, que apresenta quanto cada feature \"pesou\" na classificação, ao longo da árvore."
   ]
  },
  {
   "cell_type": "code",
   "execution_count": null,
   "metadata": {},
   "outputs": [
    {
     "name": "stdout",
     "output_type": "stream",
     "text": [
      "                           Feature  Importance\n",
      "21                       age_Idoso    0.157644\n",
      "20                      age_Adulto    0.099353\n",
      "13        avg_glucose_level_Normal    0.091345\n",
      "9             Residence_type_Urban    0.074511\n",
      "2                      gender_Male    0.057402\n",
      "6                work_type_Private    0.056539\n",
      "15    avg_glucose_level_Muito alto    0.054826\n",
      "17                   bmi_Sobrepeso    0.054427\n",
      "0                     hypertension    0.051585\n",
      "18                   bmi_Obesidade    0.044694\n",
      "10  smoking_status_formerly smoked    0.043265\n",
      "14          avg_glucose_level_Alto    0.040484\n",
      "1                    heart_disease    0.037179\n",
      "11     smoking_status_never smoked    0.036408\n",
      "7          work_type_Self-employed    0.032961\n",
      "12           smoking_status_smokes    0.029553\n",
      "16                 bmi_Peso normal    0.021336\n",
      "19                       age_Jovem    0.010086\n",
      "4                 ever_married_Yes    0.006401\n",
      "8               work_type_children    0.000000\n",
      "5           work_type_Never_worked    0.000000\n",
      "3                     gender_Other    0.000000\n"
     ]
    }
   ],
   "source": [
    "# Obter importância das características\n",
    "feature_importances = tree.feature_importances_\n",
    "\n",
    "# Criar DataFrame com as features e sua importância\n",
    "feature_importance_df = pd.DataFrame({'Feature': X.columns, 'Importance': feature_importances})\n",
    "\n",
    "# Ordenar o DataFrame pela importância em ordem decrescente\n",
    "feature_importance_df = feature_importance_df.sort_values('Importance', ascending=False)\n",
    "\n",
    "# Exibir o DataFrame\n",
    "print(feature_importance_df)"
   ]
  }
 ],
 "metadata": {
  "kernelspec": {
   "display_name": "env",
   "language": "python",
   "name": "python3"
  },
  "language_info": {
   "codemirror_mode": {
    "name": "ipython",
    "version": 3
   },
   "file_extension": ".py",
   "mimetype": "text/x-python",
   "name": "python",
   "nbconvert_exporter": "python",
   "pygments_lexer": "ipython3",
   "version": "3.8.10"
  },
  "orig_nbformat": 4
 },
 "nbformat": 4,
 "nbformat_minor": 2
}
